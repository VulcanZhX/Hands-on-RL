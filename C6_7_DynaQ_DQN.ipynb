{
 "cells": [
  {
   "cell_type": "code",
   "execution_count": 1,
   "metadata": {},
   "outputs": [],
   "source": [
    "import numpy as np\n",
    "import random\n",
    "import time\n",
    "import matplotlib.pyplot as plt"
   ]
  },
  {
   "cell_type": "code",
   "execution_count": null,
   "metadata": {},
   "outputs": [],
   "source": [
    "class WindyGridWorld_Stochastic:\n",
    "    '''\n",
    "    Stochastic Windy Grid World with wind direction disturbance.\n",
    "    The wind can blow either up or down with equal probability.\n",
    "    '''\n",
    "\n",
    "    def __init__(self, width=10, height=7):\n",
    "        self.width = width\n",
    "        self.height = height\n",
    "        self.start = 3 * width  # tuple coord: (0, 3)\n",
    "        self.goal = 2 * width + 7\n",
    "        self.state_pos = self.start\n",
    "        self.windy_cells = [\n",
    "            y * width + x for y in range(1, 5) for x in range(4, 7)\n",
    "        ]  # 上界之风的格子\n",
    "        self.windy_strength = 1  # 风力大小\n",
    "\n",
    "    def reset(self):\n",
    "        self.state_pos = self.start\n",
    "        return self.start\n",
    "\n",
    "    def step(self, state, action):\n",
    "        action_set = [[0, 1], [0, -1], [-1, 0], [1, 0]]  # 上，下，左，右\n",
    "        # extract 1d state_index to 2d position\n",
    "        y = np.floor(state / self.width)\n",
    "        x = state - y * self.width\n",
    "        # apply action\n",
    "        x = min(max(0, x + action_set[action][0]), self.width - 1)\n",
    "        y = min(max(0, y + action_set[action][1]), self.height - 1)\n",
    "        # apply wind disturbance and ensure y is within bounds\n",
    "        if state in self.windy_cells:\n",
    "            if np.random.rand() < 0.2:\n",
    "                y = max(0, y - self.windy_strength)  # 上移1格\n",
    "            else:\n",
    "                y = min(self.height - 1, y + self.windy_strength)  # 下移1格\n",
    "\n",
    "        # obtain next state from coord x,y\n",
    "        next_state = round(y * self.width + x)\n",
    "        reward = -1 if next_state != self.goal else 0\n",
    "        done = next_state == self.goal\n",
    "        self.state_pos = next_state\n",
    "        return next_state, reward, done"
   ]
  },
  {
   "cell_type": "code",
   "execution_count": null,
   "metadata": {},
   "outputs": [],
   "source": [
    "class DynaQ:\n",
    "    '''Dyna-Q Algorithm'''\n",
    "    "
   ]
  }
 ],
 "metadata": {
  "kernelspec": {
   "display_name": "roch",
   "language": "python",
   "name": "python3"
  },
  "language_info": {
   "codemirror_mode": {
    "name": "ipython",
    "version": 3
   },
   "file_extension": ".py",
   "mimetype": "text/x-python",
   "name": "python",
   "nbconvert_exporter": "python",
   "pygments_lexer": "ipython3",
   "version": "3.9.21"
  }
 },
 "nbformat": 4,
 "nbformat_minor": 2
}
