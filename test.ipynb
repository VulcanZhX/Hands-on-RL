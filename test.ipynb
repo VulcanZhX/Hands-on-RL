{
 "cells": [
  {
   "cell_type": "code",
   "execution_count": null,
   "metadata": {},
   "outputs": [],
   "source": [
    "import os\n",
    "print(\"Content-Type: text/plain; charset=utf-8\")\n",
    "print(\"Hello, World!\")"
   ]
  }
 ],
 "metadata": {
  "kernelspec": {
   "display_name": "pywake",
   "language": "python",
   "name": "pywake"
  }
 },
 "nbformat": 4,
 "nbformat_minor": 2
}
